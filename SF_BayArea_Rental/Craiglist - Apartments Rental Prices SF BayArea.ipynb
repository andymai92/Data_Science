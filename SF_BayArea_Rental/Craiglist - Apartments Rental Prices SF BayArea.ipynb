{
 "cells": [
  {
   "cell_type": "markdown",
   "metadata": {},
   "source": [
    "<b>------------------------</b><br>\n",
    "(C) 08/2017 by Andy Mai<br>\n",
    "Email: andymai.ca@aol.com<br>\n",
    "San Jose, CA - Capital of Silicon Valley<br>\n",
    "<b>------------------------</b>\n",
    "# Craigslist - Apartments' Rental Prices in SF Bay Area\n",
    "### Get information from Craigslist to Python via HTML Get and BeautifulShoup API\n",
    "In this example, we will get information about apartments' rental prices in SF Bay Area (California)"
   ]
  },
  {
   "cell_type": "code",
   "execution_count": 1,
   "metadata": {},
   "outputs": [
    {
     "name": "stdout",
     "output_type": "stream",
     "text": [
      "Populating the interactive namespace from numpy and matplotlib\n"
     ]
    }
   ],
   "source": [
    "import pandas as pd\n",
    "%pylab inline"
   ]
  },
  {
   "cell_type": "code",
   "execution_count": 2,
   "metadata": {},
   "outputs": [],
   "source": [
    "import requests\n",
    "from bs4 import BeautifulSoup as bs4"
   ]
  },
  {
   "cell_type": "markdown",
   "metadata": {},
   "source": [
    "## We will do step by step how to get information from Craigslist.\n",
    "Assume that we would like to get data of apartments with 01 bedroom and already furnished"
   ]
  },
  {
   "cell_type": "markdown",
   "metadata": {},
   "source": [
    "## STEP 01: Prepare the URL in order to GET information\n",
    "* The base will be stored in <strong>url_base</strong> variable\n",
    "* The extension for HTML GET will be stored in <b>params</b>\n",
    "<br>After that you can see the full URL will be passed as below:\n",
    "<br><i>https://sfbay.craigslist.org/search/apa?s=120&is_furnished=1&bedrooms=1\n",
    "</i>"
   ]
  },
  {
   "cell_type": "code",
   "execution_count": 3,
   "metadata": {},
   "outputs": [
    {
     "name": "stdout",
     "output_type": "stream",
     "text": [
      "https://sfbay.craigslist.org/search/apa?bedrooms=1&is_furnished=1\n"
     ]
    }
   ],
   "source": [
    "url_base = 'https://sfbay.craigslist.org/search/apa'\n",
    "params = dict(bedrooms=1, is_furnished=1)\n",
    "resq = requests.get(url_base, params=params)\n",
    "# We have the full URL:\n",
    "print (resq.url)"
   ]
  },
  {
   "cell_type": "markdown",
   "metadata": {},
   "source": [
    "We will use BeautifulSoup API to simplify the content of what we get from Craigslist"
   ]
  },
  {
   "cell_type": "code",
   "execution_count": 4,
   "metadata": {},
   "outputs": [
    {
     "name": "stdout",
     "output_type": "stream",
     "text": [
      "﻿\n",
      "<!DOCTYPE html>\n",
      "<html class=\"no-js\">\n",
      " <head>\n",
      "  <title>\n",
      "   SF bay area apts/housing for rent  - craigslist\n",
      "  </title>\n",
      "  <meta content=\"SF bay area apts/housing for rent  - craigslist\" name=\"description\">\n",
      "   <meta content=\"IE=Edge\" http-equiv=\"X-UA-Compatible\"/>\n",
      "   <link href=\"https://sfbay.craigslist.org/search/apa\" rel=\"canonical\">\n",
      "    <link href=\"https://sfbay.craigslist.org/search/apa?format=rss&amp;is_furnished=1&amp;min_bedrooms=1\" rel=\"alternate\" title=\"RSS feed for craigslist | SF bay area apts/housing for rent  - craigslist \" type=\"application/rss+xml\">\n",
      "     <link href=\"https://sfbay.craigslist.org/search/apa?s=120&amp;is_furnished=1&amp;min_bedrooms=1\" rel=\"next\">\n",
      "      <meta content=\"width=device-width,initial-scale=1\" name=\"viewport\">\n",
      "       <link href=\"//www.craigslist.org/styles/cl.css?v=d76fe4376346bd1b2503fb10181051a7\" media=\"all\" rel=\"stylesheet\" type=\"text/css\">\n",
      "       \n"
     ]
    }
   ],
   "source": [
    "html = bs4(resq.text, 'html.parser')\n",
    "print(html.prettify()[:900])"
   ]
  },
  {
   "cell_type": "markdown",
   "metadata": {},
   "source": [
    "## STEP 02: Get necessary information from the web\n",
    "We can see that every single post will be stored in <b>p</b> attribute with class <b>result-info</b><br>\n",
    "From that observation, we can retrieve all information by getting them from this attribute."
   ]
  },
  {
   "cell_type": "code",
   "execution_count": 5,
   "metadata": {},
   "outputs": [
    {
     "name": "stdout",
     "output_type": "stream",
     "text": [
      "120\n"
     ]
    }
   ],
   "source": [
    "apts = html.find_all('p', attrs={'class':'result-info'})\n",
    "print(len(apts))"
   ]
  },
  {
   "cell_type": "markdown",
   "metadata": {},
   "source": [
    "<b>apts</b> is a list of 120 renting objects. We can take one out for our sample. We work on this sample to have the sense how to apply all these things to the whole list."
   ]
  },
  {
   "cell_type": "code",
   "execution_count": 6,
   "metadata": {},
   "outputs": [
    {
     "name": "stdout",
     "output_type": "stream",
     "text": [
      "<p class=\"result-info\">\n",
      "<span class=\"icon icon-star\" role=\"button\">\n",
      "<span class=\"screen-reader-text\">favorite this post</span>\n",
      "</span>\n",
      "<time class=\"result-date\" datetime=\"2017-08-04 14:44\" title=\"Fri 04 Aug 02:44:54 PM\">Aug  4</time>\n",
      "<a class=\"result-title hdrlnk\" data-id=\"6250180150\" href=\"/scz/apa/d/furnished-two-room-apt-1000/6250180150.html\">!!!! FURNISHED TWO ROOM APT 1000 sf $2,600 PRIVATE ENTRANCE!!!!</a>\n",
      "<span class=\"result-meta\">\n",
      "<span class=\"result-price\">$2600</span>\n",
      "<span class=\"housing\">\n",
      "                    2br -\n",
      "                    1000ft<sup>2</sup> -\n",
      "                </span>\n",
      "<span class=\"result-hood\"> (capitola)</span>\n",
      "<span class=\"result-tags\">\n",
      "                    pic\n",
      "                    <span class=\"maptag\" data-pid=\"6250180150\">map</span>\n",
      "</span>\n",
      "<span class=\"banish icon icon-trash\" role=\"button\">\n",
      "<span class=\"screen-reader-text\">hide this posting</span>\n",
      "</span>\n",
      "<span aria-hidden=\"true\" class=\"unbanish icon icon-trash red\" role=\"button\"></span>\n",
      "<a class=\"restore-link\" href=\"#\">\n",
      "<span class=\"restore-narrow-text\">restore</span>\n",
      "<span class=\"restore-wide-text\">restore this posting</span>\n",
      "</a>\n",
      "</span>\n",
      "</p>\n"
     ]
    }
   ],
   "source": [
    "this_aprt = apts[15]\n",
    "print(this_aprt)"
   ]
  },
  {
   "cell_type": "markdown",
   "metadata": {},
   "source": [
    "### We get the information about number of bedroom and area"
   ]
  },
  {
   "cell_type": "code",
   "execution_count": 7,
   "metadata": {},
   "outputs": [
    {
     "name": "stdout",
     "output_type": "stream",
     "text": [
      "\n",
      "                    2br -\n",
      "                    1000ft2 -\n",
      "                \n"
     ]
    }
   ],
   "source": [
    "size = this_aprt.find_all(attrs={'class':'housing'})[0].text\n",
    "print(size)"
   ]
  },
  {
   "cell_type": "markdown",
   "metadata": {},
   "source": [
    "### We will create a function to get those information and store into apt_size and n_brs variables:"
   ]
  },
  {
   "cell_type": "code",
   "execution_count": 8,
   "metadata": {
    "collapsed": true
   },
   "outputs": [],
   "source": [
    "def size_brs(size):\n",
    "    split_var = size.strip('\\n ').strip('\\n - ').split('-')\n",
    "    if len(split_var) == 2:\n",
    "        n_brs = split_var[0].replace('br', '')\n",
    "        apt_size = split_var[1].replace('ft2', '')\n",
    "    elif 'br' in split_var[0]:\n",
    "        n_brs = split_var[0].replace('br', '')\n",
    "        apt_size = np.nan\n",
    "    elif 'ft2' in split_var[1]:\n",
    "        apt_size = split_var[1].replace('ft2', '')\n",
    "        n_brs = np.nan\n",
    "    return float(apt_size), float(n_brs)"
   ]
  },
  {
   "cell_type": "code",
   "execution_count": 9,
   "metadata": {},
   "outputs": [],
   "source": [
    "apt_size, n_brs = size_brs(size)"
   ]
  },
  {
   "cell_type": "code",
   "execution_count": 10,
   "metadata": {},
   "outputs": [],
   "source": [
    "time = this_aprt.find('time')['datetime']\n",
    "time = pd.to_datetime(time)"
   ]
  },
  {
   "cell_type": "code",
   "execution_count": 11,
   "metadata": {},
   "outputs": [],
   "source": [
    "price = float(this_aprt.find('span', {'class':'result-price'}).text.strip('$'))"
   ]
  },
  {
   "cell_type": "code",
   "execution_count": 12,
   "metadata": {
    "collapsed": true
   },
   "outputs": [],
   "source": [
    "title = this_aprt.find('a', {'class':'result-title hdrlnk'}).text"
   ]
  },
  {
   "cell_type": "code",
   "execution_count": 13,
   "metadata": {},
   "outputs": [],
   "source": [
    "link = this_aprt.find('a', {'class':'result-title hdrlnk'})['href']"
   ]
  },
  {
   "cell_type": "markdown",
   "metadata": {},
   "source": [
    "## STEP 03: Put everything into an array then we have done!\n",
    "We have all relevant information we need to know about apartments' rental price in SF Bay Area. We just display it to make sure that everything is correct."
   ]
  },
  {
   "cell_type": "code",
   "execution_count": 14,
   "metadata": {},
   "outputs": [
    {
     "name": "stdout",
     "output_type": "stream",
     "text": [
      "1000.0\n",
      "2.0\n",
      "2017-08-04 14:44:00\n",
      "2600.0\n",
      "!!!! FURNISHED TWO ROOM APT 1000 sf $2,600 PRIVATE ENTRANCE!!!!\n"
     ]
    }
   ],
   "source": [
    "print('\\n'.join([str(i) for i in [apt_size, n_brs, time, price, title]]))"
   ]
  },
  {
   "cell_type": "markdown",
   "metadata": {},
   "source": [
    "# Apply everything will did above to the whole list of rental objects.\n",
    "* Object: is every single apartment posted on Craigslist that we are working on.\n",
    "* Each page will show 120 objects by default.\n",
    "* We can iterate over 1000 objects to get the information"
   ]
  },
  {
   "cell_type": "code",
   "execution_count": 15,
   "metadata": {},
   "outputs": [],
   "source": [
    "page_index = np.arange(0, 1000, 120)"
   ]
  },
  {
   "cell_type": "code",
   "execution_count": 16,
   "metadata": {
    "collapsed": true
   },
   "outputs": [],
   "source": [
    "def set_price(x): # Avoid getting None value\n",
    "    price = x.find('span', {'class':'result-price'})\n",
    "    if price is not None:\n",
    "        price = float(price.text.strip('$'))\n",
    "    else:\n",
    "        price = np.nan\n",
    "    return price\n",
    "\n",
    "def set_time(x): # Avoid getting None value\n",
    "    time = x.find('time')['datetime']\n",
    "    if time is not None:\n",
    "        time = pd.to_datetime(time)\n",
    "    else:\n",
    "        time = np.nan\n",
    "    return time"
   ]
  },
  {
   "cell_type": "markdown",
   "metadata": {},
   "source": [
    "### Some notices in this step:\n",
    "* We need to have a delay when we query Craigslist because if we keep querying too often, our IP address will be blocked (to avoid DDoS attack). In this step, I set the delay time is 1 second for each query.\n",
    "* In params, <b>s</b> parameter indicates the page we are currently working on. By increasing this variable, we will iterate over 1000 objects via multiple pages.\n",
    "* After everything's done, we store the result into <b>result</b> array. This is the input data for us to put in pandas DataFrame for later analytics purpose."
   ]
  },
  {
   "cell_type": "code",
   "execution_count": 17,
   "metadata": {},
   "outputs": [],
   "source": [
    "import time as tp\n",
    "result = []\n",
    "for j in page_index:\n",
    "    url_base = 'https://sfbay.craigslist.org/search/apa'\n",
    "    params = dict(bedrooms=1, is_furnished=1,s=j)\n",
    "    resq = requests.get(url_base, params=params)\n",
    "    html = bs4(resq.text, 'html.parser')\n",
    "    apts = html.find_all('p', attrs={'class':'result-info'})\n",
    "    for this_aprt in apts:\n",
    "        size = this_aprt.find_all(attrs={'class':'housing'})[0].text\n",
    "        apt_size, n_brs = size_brs(size)\n",
    "        time = set_time(this_aprt)\n",
    "        price = set_price(this_aprt)\n",
    "        title = this_aprt.find('a', {'class':'result-title hdrlnk'}).text\n",
    "        link = this_aprt.find('a', {'class':'result-title hdrlnk'})['href']\n",
    "        data = np.array([time, price, apt_size, n_brs,title, link])\n",
    "        result.append(data)\n",
    "    tp.sleep(1)"
   ]
  },
  {
   "cell_type": "markdown",
   "metadata": {},
   "source": [
    "### Put everything into Pandas DataFrame"
   ]
  },
  {
   "cell_type": "code",
   "execution_count": 18,
   "metadata": {},
   "outputs": [
    {
     "data": {
      "text/html": [
       "<div>\n",
       "<style>\n",
       "    .dataframe thead tr:only-child th {\n",
       "        text-align: right;\n",
       "    }\n",
       "\n",
       "    .dataframe thead th {\n",
       "        text-align: left;\n",
       "    }\n",
       "\n",
       "    .dataframe tbody tr th {\n",
       "        vertical-align: top;\n",
       "    }\n",
       "</style>\n",
       "<table border=\"1\" class=\"dataframe\">\n",
       "  <thead>\n",
       "    <tr style=\"text-align: right;\">\n",
       "      <th></th>\n",
       "      <th>time</th>\n",
       "      <th>price</th>\n",
       "      <th>size</th>\n",
       "      <th>brs</th>\n",
       "      <th>title</th>\n",
       "      <th>link</th>\n",
       "    </tr>\n",
       "  </thead>\n",
       "  <tbody>\n",
       "    <tr>\n",
       "      <th>0</th>\n",
       "      <td>2017-08-04 16:01:00</td>\n",
       "      <td>5250.0</td>\n",
       "      <td>1600.0</td>\n",
       "      <td>2.0</td>\n",
       "      <td>Two-floor enchanting home-like flat with panor...</td>\n",
       "      <td>/sfc/apa/d/two-floor-enchanting-home/622731578...</td>\n",
       "    </tr>\n",
       "    <tr>\n",
       "      <th>1</th>\n",
       "      <td>2017-08-04 15:56:00</td>\n",
       "      <td>1800.0</td>\n",
       "      <td>430.0</td>\n",
       "      <td>1.0</td>\n",
       "      <td>430 Studio with Walk in Closet</td>\n",
       "      <td>/sby/apa/d/430-studio-with-walk-in-closet/6250...</td>\n",
       "    </tr>\n",
       "    <tr>\n",
       "      <th>2</th>\n",
       "      <td>2017-08-04 15:55:00</td>\n",
       "      <td>3495.0</td>\n",
       "      <td>NaN</td>\n",
       "      <td>1.0</td>\n",
       "      <td>Fully Furnished 1-Bed Apt in Sunnyvale! Parkin...</td>\n",
       "      <td>/sby/apa/d/fully-furnished-1-bed-apt-in/624386...</td>\n",
       "    </tr>\n",
       "    <tr>\n",
       "      <th>3</th>\n",
       "      <td>2017-08-04 15:54:00</td>\n",
       "      <td>5000.0</td>\n",
       "      <td>NaN</td>\n",
       "      <td>2.0</td>\n",
       "      <td>$5000 / 2br - 2 Bedroom/1.5 Bath with Showstop...</td>\n",
       "      <td>/sfc/apa/d/5000-2br-2-bedroom15-bath/624721108...</td>\n",
       "    </tr>\n",
       "    <tr>\n",
       "      <th>4</th>\n",
       "      <td>2017-08-04 15:38:00</td>\n",
       "      <td>2000.0</td>\n",
       "      <td>1830.0</td>\n",
       "      <td>4.0</td>\n",
       "      <td>It features a freshly painted large living room!!</td>\n",
       "      <td>/nby/apa/d/it-features-freshly-painted/6250241...</td>\n",
       "    </tr>\n",
       "  </tbody>\n",
       "</table>\n",
       "</div>"
      ],
      "text/plain": [
       "                 time   price    size  brs  \\\n",
       "0 2017-08-04 16:01:00  5250.0  1600.0  2.0   \n",
       "1 2017-08-04 15:56:00  1800.0   430.0  1.0   \n",
       "2 2017-08-04 15:55:00  3495.0     NaN  1.0   \n",
       "3 2017-08-04 15:54:00  5000.0     NaN  2.0   \n",
       "4 2017-08-04 15:38:00  2000.0  1830.0  4.0   \n",
       "\n",
       "                                               title  \\\n",
       "0  Two-floor enchanting home-like flat with panor...   \n",
       "1                     430 Studio with Walk in Closet   \n",
       "2  Fully Furnished 1-Bed Apt in Sunnyvale! Parkin...   \n",
       "3  $5000 / 2br - 2 Bedroom/1.5 Bath with Showstop...   \n",
       "4  It features a freshly painted large living room!!   \n",
       "\n",
       "                                                link  \n",
       "0  /sfc/apa/d/two-floor-enchanting-home/622731578...  \n",
       "1  /sby/apa/d/430-studio-with-walk-in-closet/6250...  \n",
       "2  /sby/apa/d/fully-furnished-1-bed-apt-in/624386...  \n",
       "3  /sfc/apa/d/5000-2br-2-bedroom15-bath/624721108...  \n",
       "4  /nby/apa/d/it-features-freshly-painted/6250241...  "
      ]
     },
     "execution_count": 18,
     "metadata": {},
     "output_type": "execute_result"
    }
   ],
   "source": [
    "col_names = ['time', 'price', 'size', 'brs', 'title', 'link']\n",
    "result = pd.DataFrame(data=result, columns=col_names)\n",
    "result.set_index('time')\n",
    "result.head()"
   ]
  },
  {
   "cell_type": "code",
   "execution_count": 19,
   "metadata": {},
   "outputs": [],
   "source": [
    "import matplotlib.pyplot as plt\n",
    "import seaborn as sns\n",
    "%matplotlib inline"
   ]
  },
  {
   "cell_type": "code",
   "execution_count": 21,
   "metadata": {},
   "outputs": [
    {
     "data": {
      "text/plain": [
       "[(0, 12000)]"
      ]
     },
     "execution_count": 21,
     "metadata": {},
     "output_type": "execute_result"
    },
    {
     "data": {
      "image/png": "[encoded data removed]",
      "text/plain": [
       "<matplotlib.figure.Figure at 0x7f384bb77cc0>"
      ]
     },
     "metadata": {},
     "output_type": "display_data"
    }
   ],
   "source": [
    "plt.figure(figsize=(12,10))\n",
    "sns.distplot(result.price.dropna(),bins=np.arange(0, 10000, 100),color='red',axlabel='SF Bay Area - Apartments\\' Rental Price ($)').set(xlim=(0, 12000))"
   ]
  },
  {
   "cell_type": "markdown",
   "metadata": {},
   "source": [
    "## The above plot is to show the distribution of rental prices of apartments in SF Bay Area"
   ]
  }
 ],
 "metadata": {
  "kernelspec": {
   "display_name": "Python 3",
   "language": "python",
   "name": "python3"
  },
  "language_info": {
   "codemirror_mode": {
    "name": "ipython",
    "version": 3
   },
   "file_extension": ".py",
   "mimetype": "text/x-python",
   "name": "python",
   "nbconvert_exporter": "python",
   "pygments_lexer": "ipython3",
   "version": "3.5.2"
  }
 },
 "nbformat": 4,
 "nbformat_minor": 2
}
